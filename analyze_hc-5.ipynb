{
 "cells": [
  {
   "cell_type": "code",
   "execution_count": 75,
   "metadata": {},
   "outputs": [
    {
     "name": "stdout",
     "output_type": "stream",
     "text": [
      "number of spikes in 20kHz: 589730\n"
     ]
    }
   ],
   "source": [
    "data = scipy.io.loadmat('./hc-5_i01_maze08.003/i01_maze08_MS.003_BehavElectrData')\n",
    "num_spikes = len(data['Spike'][0][0][1])\n",
    "print('number of spikes in 20kHz:', num_spikes)"
   ]
  },
  {
   "cell_type": "code",
   "execution_count": 89,
   "metadata": {},
   "outputs": [],
   "source": [
    "convert_to_pickle = np.zeros(num_spikes)\n",
    "temp = data['Spike'][0][0][1]\n",
    "for i in range(num_recordings):\n",
    "    convert_to_pickle[i] = temp[i][0]\n",
    "with open('hc-5.pkl', 'wb') as f:\n",
    "    pkl.dump(convert_to_pickle, f)"
   ]
  },
  {
   "cell_type": "code",
   "execution_count": 63,
   "metadata": {},
   "outputs": [],
   "source": [
    "import numpy as np\n",
    "import scipy.io\n",
    "import pickle as pkl"
   ]
  },
  {
   "cell_type": "code",
   "execution_count": 92,
   "metadata": {},
   "outputs": [
    {
     "name": "stdout",
     "output_type": "stream",
     "text": [
      "589730\n"
     ]
    }
   ],
   "source": [
    "with open('hc-5.pkl', 'rb') as f:\n",
    "    data = pkl.load(f)\n",
    "print(len(data))"
   ]
  },
  {
   "cell_type": "code",
   "execution_count": null,
   "metadata": {},
   "outputs": [],
   "source": []
  }
 ],
 "metadata": {
  "kernelspec": {
   "display_name": "Python 3",
   "language": "python",
   "name": "python3"
  },
  "language_info": {
   "codemirror_mode": {
    "name": "ipython",
    "version": 3
   },
   "file_extension": ".py",
   "mimetype": "text/x-python",
   "name": "python",
   "nbconvert_exporter": "python",
   "pygments_lexer": "ipython3",
   "version": "3.6.6"
  }
 },
 "nbformat": 4,
 "nbformat_minor": 2
}
