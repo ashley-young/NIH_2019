{
 "cells": [
  {
   "cell_type": "code",
   "execution_count": 6,
   "metadata": {},
   "outputs": [],
   "source": [
    "from scipy.linalg import solve\n",
    "from scipy.special import erf\n",
    "import numpy as np\n",
    "import numpy.ma as ma\n",
    "import pandas as pd\n",
    "import os, pickle\n",
    "import matplotlib.pyplot as plt\n",
    "import multiprocessing as mp\n",
    "import sklearn\n",
    "from sklearn.metrics import auc\n",
    "%matplotlib inline\n",
    "\n",
    "data_dir = 'data'\n",
    "subject = 1\n",
    "n_voxels = 100\n",
    "train_frac = 0.8"
   ]
  },
  {
   "cell_type": "code",
   "execution_count": 7,
   "metadata": {},
   "outputs": [],
   "source": [
    "with open(os.path.join(data_dir, 'st_objects_py3.pkl'), 'rb') as f:\n",
    "    objects = pickle.load(f)\n",
    "n_frames = 108000\n",
    "objects = [d for l in objects for d in l]"
   ]
  },
  {
   "cell_type": "code",
   "execution_count": 8,
   "metadata": {},
   "outputs": [],
   "source": [
    "unique_objects = np.unique([k for d in objects for k in d])\n",
    "n_unique_objects = len(unique_objects)\n",
    "object_index = dict(zip(unique_objects, range(n_unique_objects)))"
   ]
  },
  {
   "cell_type": "code",
   "execution_count": 9,
   "metadata": {},
   "outputs": [],
   "source": [
    "def get_confidence_barcode(lag):\n",
    "    confidence = np.zeros((n_unique_objects, n_frames))\n",
    "    for frame, d in enumerate(objects):\n",
    "        for o, c in d.items():\n",
    "            confidence[object_index[o], frame] = c\n",
    "    confidence = np.stack([sec.mean(1) for sec in np.split(confidence, n_frames / 15, axis=1)]).T\n",
    "    confidence = np.roll(confidence, lag)[:, lag:]\n",
    "    confidence_barcode = ~np.isclose(confidence, 0)\n",
    "\n",
    "    order = np.argsort(confidence_barcode.sum(1))[::-1]\n",
    "    confidence = confidence[order]\n",
    "    confidence_barcode = confidence_barcode[order]\n",
    "    object_occurances = []\n",
    "    for i in range(n_unique_objects):\n",
    "        object_occurances.append(confidence_barcode[i].sum())\n",
    "    return confidence, confidence_barcode, object_occurances"
   ]
  },
  {
   "cell_type": "code",
   "execution_count": 10,
   "metadata": {},
   "outputs": [],
   "source": [
    "confidence1, confidence_barcode1, object_occurances1 = get_confidence_barcode(1)\n",
    "confidence2, confidence_barcode2, object_occurances2 = get_confidence_barcode(2)\n",
    "confidence3, confidence_barcode3, object_occurances3 = get_confidence_barcode(3)\n",
    "confidence4, confidence_barcode4, object_occurances4 = get_confidence_barcode(4)\n",
    "confidence5, confidence_barcode5, object_occurances5 = get_confidence_barcode(5)\n",
    "confidence6, confidence_barcode6, object_occurances6 = get_confidence_barcode(6)\n",
    "confidence7, confidence_barcode7, object_occurances7 = get_confidence_barcode(7)\n",
    "confidence8, confidence_barcode8, object_occurances8 = get_confidence_barcode(8)\n",
    "confidence9, confidence_barcode9, object_occurances9 = get_confidence_barcode(9)\n",
    "confidence10, confidence_barcode10, object_occurances10 = get_confidence_barcode(10)"
   ]
  },
  {
   "cell_type": "code",
   "execution_count": 11,
   "metadata": {},
   "outputs": [],
   "source": [
    "with open(os.path.join(data_dir, 'S1_active_voxels_hundred.pkl'), 'rb') as f:\n",
    "    active_voxels = pickle.load(f)\n",
    "f.close()"
   ]
  },
  {
   "cell_type": "code",
   "execution_count": 12,
   "metadata": {},
   "outputs": [],
   "source": [
    "def fit(i, voxels, confidence, t_train, t_test, l, t_train1, t_train2, t_test1, t_test2, iters=20, atol=1e-8):\n",
    "    x = voxels[active_voxels[i]]\n",
    "    y = confidence[i] - confidence.mean()\n",
    "    x_train = x[:, t_train]\n",
    "    x_train1, x_test1 = x[:,t_train1], x[:,t_test1]\n",
    "\n",
    "    s = np.sign(np.diff(y[t_train]))\n",
    "    c = np.cov(x_train)\n",
    "    x0 = (x_train1 - x_train.mean(1)[:, np.newaxis]) / l\n",
    "\n",
    "    w = np.zeros(n_voxels)\n",
    "    w[0] = 1\n",
    "\n",
    "    erf_last = np.inf\n",
    "    e = []\n",
    "\n",
    "    for it in range(iters):\n",
    "        h = w.dot(x_train1)\n",
    "\n",
    "        erf_next = erf(h)\n",
    "        ei = np.linalg.norm(erf_next - erf_last)\n",
    "        e.append(ei)\n",
    "        if ei * ei < atol:\n",
    "            break\n",
    "        erf_last = erf_next.copy()\n",
    "\n",
    "        h *= s / erf_next\n",
    "        w = solve(c, x0.dot(h))\n",
    "\n",
    "    w /= np.sqrt(2)\n",
    "\n",
    "    return w, e\n"
   ]
  },
  {
   "cell_type": "code",
   "execution_count": 15,
   "metadata": {},
   "outputs": [],
   "source": [
    "def roc(true, prediction, n_threshold=500):\n",
    "\n",
    "    tpr, fpr = np.empty(n_threshold), np.empty(n_threshold)\n",
    "    positives, negatives = float(true.sum()), float((~true).sum())\n",
    "\n",
    "    min_thr = min(true.min(), prediction.min())\n",
    "    max_thr = max(true.max(), prediction.max())\n",
    "\n",
    "    for i, thr in enumerate(np.linspace(min_thr, max_thr, n_threshold)):\n",
    "\n",
    "        predicted_true = prediction >= thr\n",
    "\n",
    "        tp, fp = true & predicted_true, ~true & predicted_true\n",
    "        tn, fn = ~true & ~predicted_true, true & ~predicted_true\n",
    "\n",
    "        tpr[i], fpr[i] = tp.sum(), fp.sum()\n",
    "        if positives:\n",
    "            tpr[i] /= positives\n",
    "        if negatives:\n",
    "            fpr[i] /= negatives\n",
    "\n",
    "    return fpr, tpr, auc(fpr, tpr)\n"
   ]
  },
  {
   "cell_type": "code",
   "execution_count": 13,
   "metadata": {},
   "outputs": [],
   "source": [
    "def get_auc(confidence, lag):\n",
    "    \n",
    "    voxels = np.load(os.path.join(data_dir, 'subject_%i' % (subject, ), 'rt.npy'))[:, lag:]\n",
    "    z = np.isnan(voxels)\n",
    "    b = ma.array(voxels, mask=z, fill_value=0)\n",
    "    voxels = b.filled()\n",
    "\n",
    "    n_seconds = confidence.shape[1]\n",
    "    t = np.arange(n_seconds)\n",
    "    split = int(n_seconds * train_frac)\n",
    "    t_train, t_test = t[:split], t[split:]\n",
    "    l = float(len(t_train)-1)\n",
    "    t_train1, t_train2 = t_train[:-1], t_train[1:]\n",
    "    t_test1, t_test2 = t_test[:-1], t_test[1:]\n",
    "\n",
    "\n",
    "    res = [fit(i, voxels, confidence, t_train, t_test, l, t_train1, t_train2, t_test1, t_test2) for i in range(n_unique_objects)]\n",
    "    w = np.vstack([r[0] for r in res])\n",
    "    e = [r[1] for r in res]\n",
    "\n",
    "    train_prediction = np.empty((n_unique_objects, len(t_train2)))\n",
    "    test_prediction = np.empty((n_unique_objects, len(t_test2)))\n",
    "\n",
    "    for i in range(n_unique_objects):\n",
    "        train_prediction[i] = confidence[i, t_train1] + w[i].dot(voxels[np.ix_(active_voxels[i],t_train1)])\n",
    "        test_prediction[i] = confidence[i, t_test1] + w[i].dot(voxels[np.ix_(active_voxels[i],t_test1)])\n",
    "\n",
    "        train_prediction[i][train_prediction[i] < 0] = 0\n",
    "        test_prediction[i][test_prediction[i] < 0] = 0\n",
    "        train_prediction[i][train_prediction[i] > 1] = 1\n",
    "        test_prediction[i][test_prediction[i] > 1] = 1\n",
    "    \n",
    "    test_auc_arr = []\n",
    "    for o, i in object_index.items():\n",
    "        mean, std = confidence[i].mean(), confidence[i].std()\n",
    "        train_true = confidence[i, t_train2] > mean + 2*std\n",
    "        test_true = confidence[i, t_test2] > mean + 2*std\n",
    "\n",
    "        train_fpr, train_tpr, train_auc = roc(train_true, train_prediction[i])\n",
    "        test_fpr, test_tpr, test_auc = roc(test_true, test_prediction[i])\n",
    "        test_auc_arr.append(test_auc)\n",
    "    return np.sum(test_auc_arr)"
   ]
  },
  {
   "cell_type": "code",
   "execution_count": 27,
   "metadata": {},
   "outputs": [],
   "source": [
    "lag_time = np.arange(1,11)\n",
    "arr_test_auc = []\n",
    "arr_test_auc.append(get_auc(confidence1, 1))\n",
    "arr_test_auc.append(get_auc(confidence2, 2))\n",
    "arr_test_auc.append(get_auc(confidence3, 3))\n",
    "arr_test_auc.append(get_auc(confidence4, 4))\n",
    "arr_test_auc.append(get_auc(confidence5, 5))\n",
    "arr_test_auc.append(get_auc(confidence6, 6))\n",
    "arr_test_auc.append(get_auc(confidence7, 7))\n",
    "arr_test_auc.append(get_auc(confidence8, 8))\n",
    "arr_test_auc.append(get_auc(confidence9, 9))\n",
    "arr_test_auc.append(get_auc(confidence10, 10))"
   ]
  },
  {
   "cell_type": "code",
   "execution_count": 30,
   "metadata": {},
   "outputs": [
    {
     "data": {
      "image/png": "[encoded data removed]",
      "text/plain": [
       "<Figure size 864x288 with 1 Axes>"
      ]
     },
     "metadata": {},
     "output_type": "display_data"
    }
   ],
   "source": [
    "fig, ax = plt.subplots(figsize=(12, 4))\n",
    "ax.scatter(lag_time, arr_test_auc)\n",
    "ax.set_xlabel('lag time')\n",
    "ax.set_ylabel('total testing auc')\n",
    "plt.xticks(np.arange(min(lag_time), max(lag_time)+1, 1.0))\n",
    "plt.show()"
   ]
  },
  {
   "cell_type": "code",
   "execution_count": null,
   "metadata": {},
   "outputs": [],
   "source": []
  }
 ],
 "metadata": {
  "kernelspec": {
   "display_name": "Python 3",
   "language": "python",
   "name": "python3"
  },
  "language_info": {
   "codemirror_mode": {
    "name": "ipython",
    "version": 3
   },
   "file_extension": ".py",
   "mimetype": "text/x-python",
   "name": "python",
   "nbconvert_exporter": "python",
   "pygments_lexer": "ipython3",
   "version": "3.6.6"
  }
 },
 "nbformat": 4,
 "nbformat_minor": 2
}
