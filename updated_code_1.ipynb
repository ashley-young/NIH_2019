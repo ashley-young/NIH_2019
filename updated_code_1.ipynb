{
 "cells": [
  {
   "cell_type": "code",
   "execution_count": 7,
   "metadata": {},
   "outputs": [],
   "source": [
    "import numpy as np\n",
    "import matplotlib.pyplot as plt\n",
    "import scipy as sp\n",
    "import scipy.optimize as spo\n",
    "from scipy.special import erf\n",
    "import numpy.linalg as npl\n",
    "import numpy.random as npr\n",
    "import pickle as pkl\n",
    "root2over = 1/np.sqrt(2)\n",
    "\n",
    "def simulate(size,time_steps,w = 0.0,sigma = 1.0,coupling = 1.0,rho = 0.5):\n",
    "    if npl.norm(w)==0.:\n",
    "        sigma = (npr.rand(1,size)+1)/2.0\n",
    "        w = npr.rand(size,size) - 0.5\n",
    "    #     w = w.dot(w.T)\n",
    "        w = coupling*(w-np.eye(size))\n",
    "    x = np.zeros((time_steps,size))\n",
    "    x_min = np.zeros((1,size))\n",
    "    x[0] = npr.rand(1,size)\n",
    "    for i in range(time_steps-1):\n",
    "        x[i+1] = x[i] + np.tanh(x[i].dot(w)) + sigma*npr.normal(size=(1,size))\n",
    "#         x[i+1] = np.maximum(x_min,(1-rho)*x[i] + rho*np.sqrt(np.maximum(x_min,x[i].dot(w)))) \\\n",
    "#                             + np.exp(sigma*npr.normal(size=(1,size)))\n",
    "    return x-np.mean(x,axis=0)[np.newaxis,:],w,sigma\n",
    "\n",
    "def find_sigma(y,h):\n",
    "    time_steps,size = y.shape\n",
    "    sigma = np.std(y-h,axis=0)\n",
    "#     sigma = np.random.rand(1,size) + 0.5\n",
    "#     for index in range(size):\n",
    "#         def f0(sig):\n",
    "#             return (1-np.std(y[:,index]/np.abs(sig) - h[:,index]))**2\n",
    "#         res = spo.minimize(f0,sigma[0,index])\n",
    "#         sigma[0,index] = np.abs(res.x)\n",
    "    return(sigma.reshape(1,size))\n",
    "\n",
    "def time_shift_cov(x,shift=1):\n",
    "    time_steps,size = x.shape\n",
    "    x0 = (x - np.mean(x,axis=0))/np.std(x, axis=0) #normalize\n",
    "    return x0[shift:].T.dot(x0[:-shift])/np.float(time_steps-shift)\n",
    "\n",
    "def infer(x,max_iter = 100,tol=1e-8):\n",
    "    time_steps,size = x.shape\n",
    "    x0 = (x[:-1] - np.mean(x[:-1],axis=0))/np.std(x,axis=0)\n",
    "    y = np.diff(x,axis=0)\n",
    "    y -= np.mean(y,axis=0)\n",
    "    s = np.sign(y)\n",
    "    c = np.cov(x,rowvar=False)\n",
    "    w = npr.rand(size,size) - 0.5\n",
    "    h = np.tanh(x0.dot(w))\n",
    "    for index in range(size):\n",
    "        err_old,error = 0,np.inf\n",
    "        #         print(index)\n",
    "        while np.abs(error-err_old) > tol:\n",
    "            w[:,index] = npl.solve(c+0.1*np.eye(size),np.mean(x0*((s[:,index]/erf(h[:,index]*root2over))*h[:,index])[:,np.newaxis],axis=0))\n",
    "            err_old = error\n",
    "            h[:,index] = np.tanh(x0.dot(w[:,index]))\n",
    "            error = npl.norm(s[:,index]-erf(h[:,index]*root2over))\n",
    "    sigma = find_sigma(y,h)\n",
    "    return w*sigma[0][None,:],sigma\n",
    "\n",
    "# np.random.seed(31)\n",
    "# x_true,w_true,sig_true = simulate(20,10000,coupling=0.1)\n",
    "\n",
    "# with open('combined_data.pkl', 'rb') as f: #compares w of 1 chunk of data to w of another chunk of data\n",
    "#     data = pkl.load(f)\n",
    "# x1 = data['EYZ'][:,:50000]\n",
    "# w1,sig1 = infer(x1)\n",
    "# x2 = data['EYZ'][:,50000:100000]\n",
    "# w2,sig2 = infer(x2)\n",
    "# plt.plot(w1,w2)\n",
    "\n",
    "# plt.plot(w_true,w,'ko',alpha=0.5)\n",
    "# plt.show()\n",
    "# plt.close()\n",
    "# plt.plot(sig_true,sig,'ko')\n",
    "# plt.show()\n",
    "# plt.close()\n",
    "\n",
    "# # time_steps,size = x_true.shape\n",
    "# x_sim,w_sim,sig_sim = simulate(size,time_steps,w=w,sigma=sig)\n",
    "# plt.plot(time_shift_cov(x_true,shift=10),time_shift_cov(x_sim,shift=10),'ko',alpha=0.5)\n",
    "# plt.show()\n",
    "# plt.close()"
   ]
  },
  {
   "cell_type": "code",
   "execution_count": null,
   "metadata": {},
   "outputs": [
    {
     "data": {
      "image/png": "[encoded data removed]",
      "text/plain": [
       "<Figure size 432x288 with 1 Axes>"
      ]
     },
     "metadata": {},
     "output_type": "display_data"
    },
    {
     "data": {
      "image/png": "[encoded data removed]",
      "text/plain": [
       "<Figure size 432x288 with 1 Axes>"
      ]
     },
     "metadata": {},
     "output_type": "display_data"
    }
   ],
   "source": [
    "# plots w of real data and w of simulated data\n",
    "patients = ['EYZ', 'MVA', 'OEN', 'OMX', 'WRO']\n",
    "w_list, sig_list = [],[]\n",
    "for i in patients:\n",
    "    with open('combined_data.pkl', 'rb') as f:\n",
    "        data = pkl.load(f)\n",
    "        x = data[i][:,:50000].T\n",
    "    f.close()\n",
    "    w,sig = infer(x)\n",
    "    w_list.append(w)\n",
    "    sig_list.append(sig)\n",
    "    \n",
    "    time_steps, size = x.shape\n",
    "    x_sim,w_sim,sig_sim = simulate(size,time_steps,w=w,sigma=sig)\n",
    "    w_sim, sig_sim = infer(x_sim)\n",
    "    \n",
    "    w_list.append(w_sim)\n",
    "    sig_list.append(sig_sim)\n",
    "    plt.plot(w, w_sim, 'ko', alpha=0.5)\n",
    "    plt.plot(w, w, 'r-')\n",
    "#     plt.plot(time_shift_cov(x,shift=10),time_shift_cov(x_sim,shift=10),'ko',alpha=0.5)\n",
    "    plt.show()\n",
    "plt.close()"
   ]
  },
  {
   "cell_type": "code",
   "execution_count": null,
   "metadata": {},
   "outputs": [],
   "source": []
  },
  {
   "cell_type": "code",
   "execution_count": null,
   "metadata": {},
   "outputs": [],
   "source": [
    "# compares one subject to all the other subjects\n",
    "color = ['c', 'g', 'b', 'r']\n",
    "for i in range(1, len(patients), 2): #need enumerate\n",
    "#     x = data[patients[i]]\n",
    "#     w,sig = infer(x)\n",
    "#     size, time_steps = x.shape\n",
    "#     x_sim,w_sim,sig_sim = simulate(size,time_steps,w=w,sigma=sig)\n",
    "    plt.plot(w_list[1], w_list[i], 'ko', c=color[j])\n",
    "#     plt.plot(time_shift_cov(data['EYZ'],shift=10), time_shift_cov(data[patients[i]],shift=10),'ko',alpha=0.5, c=color[i])#time_shift_cov(x_sim,shift=10),'ko',alpha=0.5)\n",
    "plt.show()\n",
    "plt.close()"
   ]
  },
  {
   "cell_type": "code",
   "execution_count": null,
   "metadata": {},
   "outputs": [],
   "source": [
    "for i,j in enumerate(len(patients)):\n",
    "    print(i,j)"
   ]
  },
  {
   "cell_type": "code",
   "execution_count": null,
   "metadata": {},
   "outputs": [],
   "source": []
  }
 ],
 "metadata": {
  "kernelspec": {
   "display_name": "Python 3",
   "language": "python",
   "name": "python3"
  },
  "language_info": {
   "codemirror_mode": {
    "name": "ipython",
    "version": 3
   },
   "file_extension": ".py",
   "mimetype": "text/x-python",
   "name": "python",
   "nbconvert_exporter": "python",
   "pygments_lexer": "ipython3",
   "version": "3.6.6"
  }
 },
 "nbformat": 4,
 "nbformat_minor": 2
}
