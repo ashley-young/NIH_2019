{
 "cells": [
  {
   "cell_type": "code",
   "execution_count": 3,
   "metadata": {},
   "outputs": [],
   "source": [
    "import numpy as np\n",
    "import matplotlib.pyplot as plt\n",
    "import scipy as sp\n",
    "import scipy.optimize as spo\n",
    "from scipy.special import erf\n",
    "import numpy.linalg as npl\n",
    "import numpy.random as npr\n",
    "import pickle as pkl\n",
    "root2over = 1/np.sqrt(2)\n",
    "\n",
    "def simulate(size,time_steps,w = 0.0,sigma = 1.0,coupling = 1.0,rho = 0.5):\n",
    "    if npl.norm(w)==0.:\n",
    "        sigma = (npr.rand(1,size)+1)/2.0\n",
    "        w = npr.rand(size,size) - 0.5\n",
    "    #     w = w.dot(w.T)\n",
    "        w = coupling*(w-np.eye(size))\n",
    "    x = np.zeros((time_steps,size))\n",
    "    x_min = np.zeros((1,size))\n",
    "    x[0] = npr.rand(1,size)\n",
    "    for i in range(time_steps-1):\n",
    "        x[i+1] = x[i] + np.tanh(x[i].dot(w)) + sigma*npr.normal(size=(1,size))\n",
    "#         x[i+1] = np.maximum(x_min,(1-rho)*x[i] + rho*np.sqrt(np.maximum(x_min,x[i].dot(w)))) \\\n",
    "#                             + np.exp(sigma*npr.normal(size=(1,size)))\n",
    "    return x-np.mean(x,axis=0)[np.newaxis,:],w,sigma\n",
    "\n",
    "def find_sigma(y,h):\n",
    "    time_steps,size = y.shape\n",
    "    sigma = np.std(y-h,axis=0)\n",
    "#     sigma = np.random.rand(1,size) + 0.5\n",
    "#     for index in range(size):\n",
    "#         def f0(sig):\n",
    "#             return (1-np.std(y[:,index]/np.abs(sig) - h[:,index]))**2\n",
    "#         res = spo.minimize(f0,sigma[0,index])\n",
    "#         sigma[0,index] = np.abs(res.x)\n",
    "    return(sigma.reshape(1,size))\n",
    "\n",
    "def time_shift_cov(x,shift=1):\n",
    "    time_steps,size = x.shape\n",
    "    x0 = x - np.mean(x,axis=0)\n",
    "    return x0[shift:].T.dot(x0[:-shift])/np.float(time_steps-shift)\n",
    "\n",
    "def infer(x,max_iter = 100,tol=1e-8):\n",
    "    time_steps,size = x.shape\n",
    "    x0 = x[:-1] - np.mean(x[:-1],axis=0)\n",
    "    y = np.diff(x,axis=0)\n",
    "    y -= np.mean(y,axis=0)\n",
    "    s = np.sign(y)\n",
    "    c = np.cov(x,rowvar=False)\n",
    "    w = npr.rand(size,size) - 0.5\n",
    "    h = np.tanh(x0.dot(w))\n",
    "    for index in range(size):\n",
    "        err_old,error = 0,np.inf\n",
    "        #         print(index)\n",
    "        while np.abs(error-err_old) > tol:\n",
    "            w[:,index] = npl.solve(c+tol*np.eye(size),np.mean(x0*((s[:,index]/erf(h[:,index]*root2over))*h[:,index])[:,np.newaxis],axis=0))\n",
    "            err_old = error\n",
    "            h[:,index] = np.tanh(x0.dot(w[:,index]))\n",
    "            error = npl.norm(s[:,index]-erf(h[:,index]*root2over))\n",
    "    sigma = find_sigma(y,h)\n",
    "    return w*sigma[0][None,:],sigma\n",
    "\n",
    "# np.random.seed(31)\n",
    "# x_true,w_true,sig_true = simulate(20,10000,coupling=0.1)\n",
    "# w,sig = infer(x_true)\n",
    "
    "# with open('combined_data.pkl', 'rb') as f: #compares w of 1 chunk of data to w of another chunk of data
    "#     data = pkl.load(f)
    "# x1 = data['EYZ'][:,:50000]
    "# w1,sig1 = infer(x1)
    "# x2 = data['EYZ'][:,50000:100000]
    "# w2,sig2 = infer(x2)
    "# plt.plot(w1,w2)

    "# plt.plot(w_true,w,'ko',alpha=0.5)\n",
    "# plt.show()\n",
    "# plt.close()\n",
    "# plt.plot(sig_true,sig,'ko')\n",
    "# plt.show()\n",
    "# plt.close()\n",
    "\n",
    "# time_steps,size = x_true.shape\n",
    "# x_sim,w_sim,sig_sim = simulate(size,time_steps,w=w,sigma=sig)\n",
    "# plt.plot(time_shift_cov(x_true,shift=10),time_shift_cov(x_sim,shift=10),'ko',alpha=0.5)\n",
    "# plt.show()\n",
    "# plt.close()"
   ]
  },
  {
   "cell_type": "code",
   "execution_count": 4,
   "metadata": {},
   "outputs": [
    {
     "ename": "MemoryError",
     "evalue": "",
     "output_type": "error",
     "traceback": [
      "\u001b[1;31m---------------------------------------------------------------------------\u001b[0m",
      "\u001b[1;31mMemoryError\u001b[0m                               Traceback (most recent call last)",
      "\u001b[1;32m<ipython-input-4-5d81de730e1c>\u001b[0m in \u001b[0;36m<module>\u001b[1;34m()\u001b[0m\n\u001b[0;32m      4\u001b[0m \u001b[1;32mfor\u001b[0m \u001b[0mi\u001b[0m \u001b[1;32min\u001b[0m \u001b[0mpatients\u001b[0m\u001b[1;33m:\u001b[0m\u001b[1;33m\u001b[0m\u001b[0m\n\u001b[0;32m      5\u001b[0m     \u001b[0mx\u001b[0m \u001b[1;33m=\u001b[0m \u001b[0mdata\u001b[0m\u001b[1;33m[\u001b[0m\u001b[0mi\u001b[0m\u001b[1;33m]\u001b[0m\u001b[1;33m\u001b[0m\u001b[0m\n\u001b[1;32m----> 6\u001b[1;33m     \u001b[0mw\u001b[0m\u001b[1;33m,\u001b[0m\u001b[0msig\u001b[0m \u001b[1;33m=\u001b[0m \u001b[0minfer\u001b[0m\u001b[1;33m(\u001b[0m\u001b[0mx\u001b[0m\u001b[1;33m)\u001b[0m\u001b[1;33m\u001b[0m\u001b[0m\n\u001b[0m\u001b[0;32m      7\u001b[0m     \u001b[0mtime_steps\u001b[0m\u001b[1;33m,\u001b[0m\u001b[0msize\u001b[0m \u001b[1;33m=\u001b[0m \u001b[0mx\u001b[0m\u001b[1;33m.\u001b[0m\u001b[0mshape\u001b[0m\u001b[1;33m\u001b[0m\u001b[0m\n\u001b[0;32m      8\u001b[0m     \u001b[0mx_sim\u001b[0m\u001b[1;33m,\u001b[0m\u001b[0mw_sim\u001b[0m\u001b[1;33m,\u001b[0m\u001b[0msig_sim\u001b[0m \u001b[1;33m=\u001b[0m \u001b[0msimulate\u001b[0m\u001b[1;33m(\u001b[0m\u001b[0msize\u001b[0m\u001b[1;33m,\u001b[0m\u001b[0mtime_steps\u001b[0m\u001b[1;33m,\u001b[0m\u001b[0mw\u001b[0m\u001b[1;33m=\u001b[0m\u001b[0mw\u001b[0m\u001b[1;33m,\u001b[0m\u001b[0msigma\u001b[0m\u001b[1;33m=\u001b[0m\u001b[0msig\u001b[0m\u001b[1;33m)\u001b[0m\u001b[1;33m\u001b[0m\u001b[0m\n",
      "\u001b[1;32m<ipython-input-3-460df40129a7>\u001b[0m in \u001b[0;36minfer\u001b[1;34m(x, max_iter, tol)\u001b[0m\n\u001b[0;32m     46\u001b[0m     \u001b[0my\u001b[0m \u001b[1;33m-=\u001b[0m \u001b[0mnp\u001b[0m\u001b[1;33m.\u001b[0m\u001b[0mmean\u001b[0m\u001b[1;33m(\u001b[0m\u001b[0my\u001b[0m\u001b[1;33m,\u001b[0m\u001b[0maxis\u001b[0m\u001b[1;33m=\u001b[0m\u001b[1;36m0\u001b[0m\u001b[1;33m)\u001b[0m\u001b[1;33m\u001b[0m\u001b[0m\n\u001b[0;32m     47\u001b[0m     \u001b[0ms\u001b[0m \u001b[1;33m=\u001b[0m \u001b[0mnp\u001b[0m\u001b[1;33m.\u001b[0m\u001b[0msign\u001b[0m\u001b[1;33m(\u001b[0m\u001b[0my\u001b[0m\u001b[1;33m)\u001b[0m\u001b[1;33m\u001b[0m\u001b[0m\n\u001b[1;32m---> 48\u001b[1;33m     \u001b[0mc\u001b[0m \u001b[1;33m=\u001b[0m \u001b[0mnp\u001b[0m\u001b[1;33m.\u001b[0m\u001b[0mcov\u001b[0m\u001b[1;33m(\u001b[0m\u001b[0mx\u001b[0m\u001b[1;33m,\u001b[0m\u001b[0mrowvar\u001b[0m\u001b[1;33m=\u001b[0m\u001b[1;32mFalse\u001b[0m\u001b[1;33m)\u001b[0m\u001b[1;33m\u001b[0m\u001b[0m\n\u001b[0m\u001b[0;32m     49\u001b[0m     \u001b[0mw\u001b[0m \u001b[1;33m=\u001b[0m \u001b[0mnpr\u001b[0m\u001b[1;33m.\u001b[0m\u001b[0mrand\u001b[0m\u001b[1;33m(\u001b[0m\u001b[0msize\u001b[0m\u001b[1;33m,\u001b[0m\u001b[0msize\u001b[0m\u001b[1;33m)\u001b[0m \u001b[1;33m-\u001b[0m \u001b[1;36m0.5\u001b[0m\u001b[1;33m\u001b[0m\u001b[0m\n\u001b[0;32m     50\u001b[0m     \u001b[0mh\u001b[0m \u001b[1;33m=\u001b[0m \u001b[0mnp\u001b[0m\u001b[1;33m.\u001b[0m\u001b[0mtanh\u001b[0m\u001b[1;33m(\u001b[0m\u001b[0mx0\u001b[0m\u001b[1;33m.\u001b[0m\u001b[0mdot\u001b[0m\u001b[1;33m(\u001b[0m\u001b[0mw\u001b[0m\u001b[1;33m)\u001b[0m\u001b[1;33m)\u001b[0m\u001b[1;33m\u001b[0m\u001b[0m\n",
      "\u001b[1;32mc:\\users\\jeffrey young\\appdata\\local\\programs\\python\\python36\\lib\\site-packages\\numpy\\lib\\function_base.py\u001b[0m in \u001b[0;36mcov\u001b[1;34m(m, y, rowvar, bias, ddof, fweights, aweights)\u001b[0m\n\u001b[0;32m   3106\u001b[0m     \u001b[1;32melse\u001b[0m\u001b[1;33m:\u001b[0m\u001b[1;33m\u001b[0m\u001b[0m\n\u001b[0;32m   3107\u001b[0m         \u001b[0mX_T\u001b[0m \u001b[1;33m=\u001b[0m \u001b[1;33m(\u001b[0m\u001b[0mX\u001b[0m\u001b[1;33m*\u001b[0m\u001b[0mw\u001b[0m\u001b[1;33m)\u001b[0m\u001b[1;33m.\u001b[0m\u001b[0mT\u001b[0m\u001b[1;33m\u001b[0m\u001b[0m\n\u001b[1;32m-> 3108\u001b[1;33m     \u001b[0mc\u001b[0m \u001b[1;33m=\u001b[0m \u001b[0mdot\u001b[0m\u001b[1;33m(\u001b[0m\u001b[0mX\u001b[0m\u001b[1;33m,\u001b[0m \u001b[0mX_T\u001b[0m\u001b[1;33m.\u001b[0m\u001b[0mconj\u001b[0m\u001b[1;33m(\u001b[0m\u001b[1;33m)\u001b[0m\u001b[1;33m)\u001b[0m\u001b[1;33m\u001b[0m\u001b[0m\n\u001b[0m\u001b[0;32m   3109\u001b[0m     \u001b[0mc\u001b[0m \u001b[1;33m*=\u001b[0m \u001b[1;36m1.\u001b[0m \u001b[1;33m/\u001b[0m \u001b[0mnp\u001b[0m\u001b[1;33m.\u001b[0m\u001b[0mfloat64\u001b[0m\u001b[1;33m(\u001b[0m\u001b[0mfact\u001b[0m\u001b[1;33m)\u001b[0m\u001b[1;33m\u001b[0m\u001b[0m\n\u001b[0;32m   3110\u001b[0m     \u001b[1;32mreturn\u001b[0m \u001b[0mc\u001b[0m\u001b[1;33m.\u001b[0m\u001b[0msqueeze\u001b[0m\u001b[1;33m(\u001b[0m\u001b[1;33m)\u001b[0m\u001b[1;33m\u001b[0m\u001b[0m\n",
      "\u001b[1;31mMemoryError\u001b[0m: "
     ]
    }
   ],
   "source": [
    "with open('combined_data.pkl', 'rb') as f:\n",
    "    data = pkl.load(f)\n",
    "patients = ['EYZ']#, 'MVA', 'OEN', 'OMX', 'WRO']\n",
    "for i in patients:\n",
    "    x = data[i].T\n",
    "    w,sig = infer(x)\n",
    "    time_steps,size = x.shape\n",
    "    x_sim,w_sim,sig_sim = simulate(size,time_steps,w=w,sigma=sig)\n",
    "    plt.plot(time_shift_cov(x,shift=10),time_shift_cov(x_sim,shift=10),'ko',alpha=0.5)\n",
    "    plt.show()\n",
    "plt.close()"
   ]
  },
  {
   "cell_type": "code",
   "execution_count": null,
   "metadata": {},
   "outputs": [],
   "source": []
  }
 ],
 "metadata": {
  "kernelspec": {
   "display_name": "Python 3",
   "language": "python",
   "name": "python3"
  },
  "language_info": {
   "codemirror_mode": {
    "name": "ipython",
    "version": 3
   },
   "file_extension": ".py",
   "mimetype": "text/x-python",
   "name": "python",
   "nbconvert_exporter": "python",
   "pygments_lexer": "ipython3",
   "version": "3.6.6"
  }
 },
 "nbformat": 4,
 "nbformat_minor": 2
}
